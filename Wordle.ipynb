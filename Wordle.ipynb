{
 "cells": [
  {
   "cell_type": "code",
   "execution_count": 1,
   "id": "b03cac0e",
   "metadata": {},
   "outputs": [],
   "source": [
    "import pandas as pd\n",
    "import time\n",
    "import string\n",
    "from selenium import webdriver\n",
    "from bs4 import BeautifulSoup\n",
    "from urllib.request import urlopen\n",
    "import requests\n",
    "txt=open('words1.txt','r')\n",
    "words=txt.readlines()\n",
    "\n",
    "\n"
   ]
  },
  {
   "cell_type": "code",
   "execution_count": 45,
   "id": "d1a72666",
   "metadata": {},
   "outputs": [],
   "source": [
    "def wordle():\n",
    "    good=[]\n",
    "    for w in words:\n",
    "\n",
    "        if len(w)==6:\n",
    "\n",
    "            good.append(w.lower()[0:5])\n",
    "    \n",
    "    \n",
    "    B=[]\n",
    "   \n",
    "    G=[0,0,0,0,0]\n",
    "    pot=pd.Series(good)\n",
    "    for z in range(4):\n",
    "        O=[]\n",
    "        O2=[0,0,0,0,0]\n",
    "        print('Word:')\n",
    "        word=input()\n",
    "        print('Colour:')\n",
    "        colour=input()\n",
    "        for i in range(5):\n",
    "            if colour[i]=='b':\n",
    "                \n",
    "                B.append(word[i])\n",
    "            elif colour[i]=='o':\n",
    "                O.append(word[i]+str(i))\n",
    "                O2[i]=word[i]\n",
    "                \n",
    "                \n",
    "            else:\n",
    "                G[i]=word[i]\n",
    "                \n",
    "        \n",
    "        for letter in B:\n",
    "            if letter not in G:\n",
    "                pot=pot[~(pot.str.contains(letter))]\n",
    "            else:\n",
    "                pot=pot[pot.str.count(letter)<2]\n",
    "            \n",
    "        for letter in O:\n",
    "            \n",
    "            pot=pot[pot.str.contains(letter[0])]\n",
    "            \n",
    "            pot=pot[~(pot.str[int(letter[1])]==letter[0])]\n",
    "            \n",
    "            \n",
    "            \n",
    "            \n",
    "            \n",
    "\n",
    "                \n",
    "                \n",
    "        for i in range(len(G)):\n",
    "            \n",
    "            if type(G[i])==str:\n",
    "                pot=pot[pot.str[i]==G[i]]\n",
    "            \n",
    "            elif type(O2[i])==str:\n",
    "                pot=pot[~(pot.str[i]==O2[i])]\n",
    "               \n",
    "        print(pot)\n",
    "                        \n",
    "                    \n",
    "                    \n",
    "                    \n",
    "                    \n",
    "        \n"
   ]
  },
  {
   "cell_type": "code",
   "execution_count": null,
   "id": "187cf4b2",
   "metadata": {},
   "outputs": [
    {
     "name": "stdout",
     "output_type": "stream",
     "text": [
      "Word:\n",
      "alpah\n",
      "Colour:\n",
      "gggoo\n",
      "7033    alpha\n",
      "dtype: object\n",
      "Word:\n"
     ]
    }
   ],
   "source": [
    "wordle()"
   ]
  },
  {
   "cell_type": "code",
   "execution_count": null,
   "id": "ea944d78",
   "metadata": {
    "scrolled": false
   },
   "outputs": [],
   "source": [
    "\n",
    "\n",
    "\n"
   ]
  },
  {
   "cell_type": "code",
   "execution_count": 3,
   "id": "a8aaba64",
   "metadata": {},
   "outputs": [],
   "source": [
    "qwerty=[list('qwertyuiop'),list('asdfghjkl'),list('zxcvbnm')]\n",
    "\n",
    "for i in range(len(qwerty)-1):\n",
    "    for j in range(len(qwerty[i])):\n",
    "        qwerty[i][j]=qwerty[i][j]+'//*[@id=\"wordle-app-game\"]/div[2]/div['+str(i+1)+']/button['+str(j+1)+']'\n",
    "for j in range(len(qwerty[2])):\n",
    "    qwerty[2][j]=qwerty[2][j]+'//*[@id=\"wordle-app-game\"]/div[2]/div['+str(3)+']/button['+str(j+2)+']'\n",
    "\n",
    "\n"
   ]
  },
  {
   "cell_type": "code",
   "execution_count": null,
   "id": "b9596ebf",
   "metadata": {},
   "outputs": [],
   "source": [
    "\n",
    "\n",
    "\n",
    "def winwin():\n",
    "    driver = webdriver.Chrome(executable_path='chromedriver.exe')\n",
    "    driver.get('https://www.nytimes.com/games/wordle/index.html')\n",
    "\n",
    "    box=driver.find_element_by_class_name('Tile-module_tile__3ayIZ')\n",
    "    \n",
    "    good=[]\n",
    "    for w in words:\n",
    "\n",
    "        if len(w)==6:\n",
    "\n",
    "            good.append(w.lower()[0:5])\n",
    "    \n",
    "    \n",
    "    B=[]\n",
    "    O=[]\n",
    "    G=[0,0,0,0,0]\n",
    "    pot=pd.Series(good)\n",
    "    \n",
    "    \n",
    "    \n",
    "\n",
    "    croix=driver.find_element_by_id('pz-gdpr-btn-closex')\n",
    "    croix.click()\n",
    "\n",
    "    croix1=driver.find_element_by_class_name('game-icon')\n",
    "    croix1.click()\n",
    "\n",
    "\n",
    "\n",
    "    for mot in range(5):\n",
    "\n",
    "        word=input()\n",
    "        for letter in word:\n",
    "\n",
    "            for i in range(len(qwerty)):\n",
    "                for j in range(len(qwerty[i])):\n",
    "                    if letter==qwerty[i][j][0]:\n",
    "                        xpath=driver.find_element_by_xpath(qwerty[i][j][1:]) \n",
    "                        xpath.click()\n",
    "        enter=driver.find_element_by_xpath('//*[@id=\"wordle-app-game\"]/div[2]/div[3]/button[1]')\n",
    "        \n",
    "        enter.click()\n",
    "        time.sleep(1.5)\n",
    "        \n",
    "        résultat=[]\n",
    "        for h in range(1,6):\n",
    "            résultat.append(driver.find_elements_by_xpath('//*[@id=\"wordle-app-game\"]/div[1]/div/div['+str(mot+1)+']/div['+str(h)+']/div'))\n",
    "        colour=''\n",
    "        \n",
    "        for i in range(5):\n",
    "            col=résultat[i][0].get_attribute('aria-label')[2:]\n",
    "            if col=='present':\n",
    "                colour+='o'\n",
    "            elif col=='absent':\n",
    "                colour+='b'\n",
    "            else:\n",
    "                colour+='g'\n",
    "                \n",
    "        \n",
    "        if colour=='ggggg':\n",
    "            return(word+' est le bon mot')\n",
    "        \n",
    "        O2=[0,0,0,0,0]\n",
    "        \n",
    "        for i in range(5):\n",
    "            if colour[i]=='b':\n",
    "                \n",
    "                B.append(word[i])\n",
    "            elif colour[i]=='o':\n",
    "                O.append(word[i]+str(i))\n",
    "                O2[i]=word[i]\n",
    "            else:\n",
    "                G[i]=word[i]\n",
    "                \n",
    "        \n",
    "        for letter in B:\n",
    "            if letter not in G:\n",
    "                pot=pot[~(pot.str.contains(letter))]\n",
    "            else:\n",
    "                pot=pot[pot.str.count(letter)<2]\n",
    "                    \n",
    "        for letter in O:\n",
    "            \n",
    "            pot=pot[pot.str.contains(letter[0])]\n",
    "            \n",
    "            pot=pot[~(pot.str[int(letter[1])]==letter[0])]\n",
    "            \n",
    "\n",
    "                \n",
    "                \n",
    "        for i in range(len(G)):\n",
    "            \n",
    "            if type(G[i])==str:\n",
    "                pot=pot[pot.str[i]==G[i]]\n",
    "            elif type(O2[i])==str:\n",
    "                pot=pot[~(pot.str[i]==O2[i])]\n",
    "               \n",
    "        \n",
    "        print(pot)"
   ]
  },
  {
   "cell_type": "code",
   "execution_count": 5,
   "id": "d432c220",
   "metadata": {},
   "outputs": [
    {
     "name": "stderr",
     "output_type": "stream",
     "text": [
      "C:\\Users\\vadim\\AppData\\Local\\Temp\\ipykernel_9264\\870746733.py:2: DeprecationWarning: executable_path has been deprecated, please pass in a Service object\n",
      "  driver = webdriver.Chrome(executable_path='chromedriver.exe')\n",
      "C:\\Users\\vadim\\AppData\\Local\\Temp\\ipykernel_9264\\870746733.py:5: DeprecationWarning: find_element_by_* commands are deprecated. Please use find_element() instead\n",
      "  box=driver.find_element_by_class_name('Tile-module_tile__3ayIZ')\n",
      "C:\\Users\\vadim\\AppData\\Local\\Temp\\ipykernel_9264\\870746733.py:23: DeprecationWarning: find_element_by_* commands are deprecated. Please use find_element() instead\n",
      "  croix=driver.find_element_by_id('pz-gdpr-btn-closex')\n",
      "C:\\Users\\vadim\\AppData\\Local\\Temp\\ipykernel_9264\\870746733.py:26: DeprecationWarning: find_element_by_* commands are deprecated. Please use find_element() instead\n",
      "  croix1=driver.find_element_by_class_name('game-icon')\n"
     ]
    },
    {
     "name": "stdout",
     "output_type": "stream",
     "text": [
      "crane\n"
     ]
    },
    {
     "name": "stderr",
     "output_type": "stream",
     "text": [
      "C:\\Users\\vadim\\AppData\\Local\\Temp\\ipykernel_9264\\870746733.py:39: DeprecationWarning: find_element_by_* commands are deprecated. Please use find_element() instead\n",
      "  xpath=driver.find_element_by_xpath(qwerty[i][j][1:])\n",
      "C:\\Users\\vadim\\AppData\\Local\\Temp\\ipykernel_9264\\870746733.py:41: DeprecationWarning: find_element_by_* commands are deprecated. Please use find_element() instead\n",
      "  enter=driver.find_element_by_xpath('//*[@id=\"wordle-app-game\"]/div[2]/div[3]/button[1]')\n",
      "C:\\Users\\vadim\\AppData\\Local\\Temp\\ipykernel_9264\\870746733.py:48: DeprecationWarning: find_elements_by_* commands are deprecated. Please use find_elements() instead\n",
      "  résultat.append(driver.find_elements_by_xpath('//*[@id=\"wordle-app-game\"]/div[1]/div/div['+str(mot+1)+']/div['+str(h)+']/div'))\n"
     ]
    },
    {
     "name": "stdout",
     "output_type": "stream",
     "text": [
      "151      perae\n",
      "586      parae\n",
      "1116     aygre\n",
      "1134     aerie\n",
      "1138     barge\n",
      "         ...  \n",
      "13748    targe\n",
      "13841    parse\n",
      "14108    large\n",
      "14335    paire\n",
      "14777    rapee\n",
      "Length: 81, dtype: object\n",
      "paire\n"
     ]
    },
    {
     "name": "stderr",
     "output_type": "stream",
     "text": [
      "C:\\Users\\vadim\\AppData\\Local\\Temp\\ipykernel_9264\\870746733.py:39: DeprecationWarning: find_element_by_* commands are deprecated. Please use find_element() instead\n",
      "  xpath=driver.find_element_by_xpath(qwerty[i][j][1:])\n",
      "C:\\Users\\vadim\\AppData\\Local\\Temp\\ipykernel_9264\\870746733.py:41: DeprecationWarning: find_element_by_* commands are deprecated. Please use find_element() instead\n",
      "  enter=driver.find_element_by_xpath('//*[@id=\"wordle-app-game\"]/div[2]/div[3]/button[1]')\n",
      "C:\\Users\\vadim\\AppData\\Local\\Temp\\ipykernel_9264\\870746733.py:48: DeprecationWarning: find_elements_by_* commands are deprecated. Please use find_elements() instead\n",
      "  résultat.append(driver.find_elements_by_xpath('//*[@id=\"wordle-app-game\"]/div[1]/div/div['+str(mot+1)+']/div['+str(h)+']/div'))\n"
     ]
    },
    {
     "name": "stdout",
     "output_type": "stream",
     "text": [
      "1116     aygre\n",
      "2398     amore\n",
      "3466     azure\n",
      "4469     alure\n",
      "4943     afore\n",
      "7868     abore\n",
      "10212    adore\n",
      "dtype: object\n",
      "adore\n"
     ]
    },
    {
     "data": {
      "text/plain": [
       "'adore est le bon mot'"
      ]
     },
     "execution_count": 5,
     "metadata": {},
     "output_type": "execute_result"
    }
   ],
   "source": [
    "winwin()"
   ]
  },
  {
   "cell_type": "code",
   "execution_count": 30,
   "id": "8944e976",
   "metadata": {},
   "outputs": [
    {
     "data": {
      "text/plain": [
       "2"
      ]
     },
     "execution_count": 30,
     "metadata": {},
     "output_type": "execute_result"
    }
   ],
   "source": [
    "mot='protut'\n",
    "mot.count('t')\n",
    "\n",
    "L=['a','b','c','a']\n",
    "L.count('a')"
   ]
  }
 ],
 "metadata": {
  "kernelspec": {
   "display_name": "Python 3 (ipykernel)",
   "language": "python",
   "name": "python3"
  },
  "language_info": {
   "codemirror_mode": {
    "name": "ipython",
    "version": 3
   },
   "file_extension": ".py",
   "mimetype": "text/x-python",
   "name": "python",
   "nbconvert_exporter": "python",
   "pygments_lexer": "ipython3",
   "version": "3.9.12"
  }
 },
 "nbformat": 4,
 "nbformat_minor": 5
}
